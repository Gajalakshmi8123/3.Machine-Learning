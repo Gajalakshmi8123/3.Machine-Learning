{
 "cells": [
  {
   "cell_type": "code",
   "execution_count": 1,
   "metadata": {},
   "outputs": [
    {
     "name": "stdout",
     "output_type": "stream",
     "text": [
      "    Years_of_EXP    Salary\n",
      "0              5   60000.0\n",
      "1              8   75000.0\n",
      "2              3   50000.0\n",
      "3             10   90000.0\n",
      "4              6   65000.0\n",
      "5              4   55000.0\n",
      "6              7   70000.0\n",
      "7             12  100000.0\n",
      "8              9   80000.0\n",
      "9              2   45000.0\n",
      "10            11   95000.0\n",
      "11             3   48000.0\n",
      "12             6   62000.0\n",
      "13             8   78000.0\n",
      "14             5   58000.0\n",
      "15             7   68000.0\n",
      "16             4   53000.0\n",
      "17             9   82000.0\n",
      "18             1   40000.0\n",
      "19            10   85000.0\n",
      "20             6   63000.0\n",
      "21             7   67000.0\n",
      "22             4   52000.0\n",
      "23             8   72000.0\n",
      "24             5   59000.0\n",
      "25             3   47000.0\n",
      "26            11   88000.0\n",
      "27             9   79000.0\n",
      "28             2   42000.0\n",
      "29             6   64000.0\n",
      "30             7   66000.0\n",
      "31             5   57000.0\n",
      "32             8   74000.0\n",
      "33             4   51000.0\n",
      "34            10   86000.0\n",
      "35             1   39000.0\n",
      "36             7   69000.0\n",
      "37             6   61000.0\n",
      "38             9   81000.0\n",
      "39             3   46000.0\n",
      "40            12   98000.0\n",
      "41             5   56000.0\n",
      "42             8   77000.0\n",
      "43             4   54000.0\n",
      "44            10   87000.0\n"
     ]
    }
   ],
   "source": [
    "import pandas as pd\n",
    "Dataset=pd.read_csv(\"Employee_Salary_Detail.csv\")\n",
    "print(Dataset)"
   ]
  }
 ],
 "metadata": {
  "kernelspec": {
   "display_name": "Python 3",
   "language": "python",
   "name": "python3"
  },
  "language_info": {
   "codemirror_mode": {
    "name": "ipython",
    "version": 3
   },
   "file_extension": ".py",
   "mimetype": "text/x-python",
   "name": "python",
   "nbconvert_exporter": "python",
   "pygments_lexer": "ipython3",
   "version": "3.12.3"
  }
 },
 "nbformat": 4,
 "nbformat_minor": 2
}
