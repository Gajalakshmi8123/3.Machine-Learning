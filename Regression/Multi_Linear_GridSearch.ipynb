{
 "cells": [
  {
   "cell_type": "code",
   "execution_count": 1,
   "metadata": {},
   "outputs": [],
   "source": [
    "import pandas as pd"
   ]
  },
  {
   "cell_type": "code",
   "execution_count": 2,
   "metadata": {},
   "outputs": [],
   "source": [
    "Dataset=pd.read_csv('insurance_pre.csv')"
   ]
  },
  {
   "cell_type": "code",
   "execution_count": 3,
   "metadata": {},
   "outputs": [
    {
     "name": "stdout",
     "output_type": "stream",
     "text": [
      "   age     sex     bmi  children smoker      charges\n",
      "0   19  female  27.900         0    yes  16884.92400\n",
      "1   18    male  33.770         1     no   1725.55230\n",
      "2   28    male  33.000         3     no   4449.46200\n",
      "3   33    male  22.705         0     no  21984.47061\n",
      "4   32    male  28.880         0     no   3866.85520\n"
     ]
    }
   ],
   "source": [
    "print(Dataset.head())"
   ]
  },
  {
   "cell_type": "code",
   "execution_count": 4,
   "metadata": {},
   "outputs": [],
   "source": [
    "Dataset=pd.get_dummies(Dataset,dtype=int,drop_first=True)"
   ]
  },
  {
   "cell_type": "code",
   "execution_count": 5,
   "metadata": {},
   "outputs": [
    {
     "data": {
      "text/plain": [
       "Index(['age', 'bmi', 'children', 'charges', 'sex_male', 'smoker_yes'], dtype='object')"
      ]
     },
     "execution_count": 5,
     "metadata": {},
     "output_type": "execute_result"
    }
   ],
   "source": [
    "Dataset.columns"
   ]
  },
  {
   "cell_type": "code",
   "execution_count": 6,
   "metadata": {},
   "outputs": [],
   "source": [
    "Independent=Dataset[['age', 'bmi', 'children', 'sex_male', 'smoker_yes']]\n",
    "Dependent=Dataset[['charges']]"
   ]
  },
  {
   "cell_type": "code",
   "execution_count": 7,
   "metadata": {},
   "outputs": [],
   "source": [
    "from sklearn.model_selection import train_test_split\n",
    "X_train,X_test,Y_train,Y_test=train_test_split(Independent,Dependent,test_size=0.30,random_state=0)"
   ]
  },
  {
   "cell_type": "code",
   "execution_count": 8,
   "metadata": {},
   "outputs": [],
   "source": [
    "from sklearn.preprocessing import StandardScaler\n",
    "sc=StandardScaler()\n",
    "X_train=sc.fit_transform(X_train)\n",
    "X_test=sc.transform(X_test)"
   ]
  },
  {
   "cell_type": "code",
   "execution_count": 9,
   "metadata": {},
   "outputs": [],
   "source": [
    "from sklearn.model_selection import GridSearchCV\n",
    "from sklearn.linear_model import LinearRegression\n",
    "Param_grid={'fit_intercept':[True,False],'copy_X':[True,False],'n_jobs':[None],'positive':[True,False]}\n"
   ]
  },
  {
   "cell_type": "code",
   "execution_count": 10,
   "metadata": {},
   "outputs": [
    {
     "name": "stdout",
     "output_type": "stream",
     "text": [
      "Fitting 5 folds for each of 8 candidates, totalling 40 fits\n"
     ]
    }
   ],
   "source": [
    "grid=GridSearchCV(LinearRegression(),Param_grid, refit=True,verbose=3,n_jobs=-1)\n",
    "grid.fit(X_train,Y_train)\n",
    "re=grid.cv_results_"
   ]
  },
  {
   "cell_type": "code",
   "execution_count": 11,
   "metadata": {},
   "outputs": [],
   "source": [
    "grid_predictions = grid.predict(X_test)"
   ]
  },
  {
   "cell_type": "code",
   "execution_count": 12,
   "metadata": {},
   "outputs": [
    {
     "name": "stdout",
     "output_type": "stream",
     "text": [
      "(\"The R_score value for best parameter {'copy_X': True, 'fit_intercept': True, 'n_jobs': None, 'positive': True}:\", 0.7894429387120754)\n"
     ]
    }
   ],
   "source": [
    "from sklearn.metrics import r2_score\n",
    "r_score=r2_score(Y_test,grid_predictions)\n",
    "print((\"The R_score value for best parameter {}:\".format(grid.best_params_),r_score))"
   ]
  },
  {
   "cell_type": "code",
   "execution_count": 13,
   "metadata": {},
   "outputs": [
    {
     "name": "stdout",
     "output_type": "stream",
     "text": [
      "   mean_fit_time  std_fit_time  mean_score_time  std_score_time param_copy_X  \\\n",
      "0       0.010624      0.003164         0.002372        0.002556         True   \n",
      "1       0.006181      0.004165         0.001433        0.001609         True   \n",
      "2       0.002128      0.001554         0.003177        0.002449         True   \n",
      "3       0.002721      0.001677         0.001933        0.001241         True   \n",
      "4       0.005265      0.001375         0.002536        0.001327        False   \n",
      "5       0.003208      0.002376         0.002876        0.003011        False   \n",
      "6       0.002704      0.003116         0.004787        0.005595        False   \n",
      "7       0.003444      0.000924         0.002224        0.000640        False   \n",
      "\n",
      "  param_fit_intercept param_n_jobs param_positive  \\\n",
      "0                True         None           True   \n",
      "1                True         None          False   \n",
      "2               False         None           True   \n",
      "3               False         None          False   \n",
      "4                True         None           True   \n",
      "5                True         None          False   \n",
      "6               False         None           True   \n",
      "7               False         None          False   \n",
      "\n",
      "                                              params  split0_test_score  \\\n",
      "0  {'copy_X': True, 'fit_intercept': True, 'n_job...           0.763511   \n",
      "1  {'copy_X': True, 'fit_intercept': True, 'n_job...           0.763511   \n",
      "2  {'copy_X': True, 'fit_intercept': False, 'n_jo...          -0.698095   \n",
      "3  {'copy_X': True, 'fit_intercept': False, 'n_jo...          -0.698095   \n",
      "4  {'copy_X': False, 'fit_intercept': True, 'n_jo...           0.763511   \n",
      "5  {'copy_X': False, 'fit_intercept': True, 'n_jo...           0.763511   \n",
      "6  {'copy_X': False, 'fit_intercept': False, 'n_j...          -0.698095   \n",
      "7  {'copy_X': False, 'fit_intercept': False, 'n_j...          -0.698095   \n",
      "\n",
      "   split1_test_score  split2_test_score  split3_test_score  split4_test_score  \\\n",
      "0           0.703146           0.730655           0.695634           0.719080   \n",
      "1           0.702938           0.730655           0.695551           0.719087   \n",
      "2          -0.586653          -0.459207          -0.598656          -0.416113   \n",
      "3          -0.586805          -0.459207          -0.600488          -0.419146   \n",
      "4           0.703146           0.730655           0.695634           0.719080   \n",
      "5           0.702938           0.730655           0.695551           0.719087   \n",
      "6          -0.586653          -0.459207          -0.598656          -0.416113   \n",
      "7          -0.586805          -0.459207          -0.600488          -0.419146   \n",
      "\n",
      "   mean_test_score  std_test_score  rank_test_score  \n",
      "0         0.722405        0.023902                1  \n",
      "1         0.722348        0.023954                3  \n",
      "2        -0.551745        0.101781                5  \n",
      "3        -0.552748        0.101157                7  \n",
      "4         0.722405        0.023902                1  \n",
      "5         0.722348        0.023954                3  \n",
      "6        -0.551745        0.101781                5  \n",
      "7        -0.552748        0.101157                7  \n"
     ]
    }
   ],
   "source": [
    "table=pd.DataFrame.from_dict(re)\n",
    "print(table)"
   ]
  }
 ],
 "metadata": {
  "kernelspec": {
   "display_name": "Python 3",
   "language": "python",
   "name": "python3"
  },
  "language_info": {
   "codemirror_mode": {
    "name": "ipython",
    "version": 3
   },
   "file_extension": ".py",
   "mimetype": "text/x-python",
   "name": "python",
   "nbconvert_exporter": "python",
   "pygments_lexer": "ipython3",
   "version": "3.12.3"
  }
 },
 "nbformat": 4,
 "nbformat_minor": 2
}
