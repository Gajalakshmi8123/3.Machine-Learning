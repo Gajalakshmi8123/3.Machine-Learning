{
 "cells": [
  {
   "cell_type": "code",
   "execution_count": 2,
   "metadata": {},
   "outputs": [
    {
     "name": "stdout",
     "output_type": "stream",
     "text": [
      "[0.63720465]\n",
      "[[20984.0936]]\n"
     ]
    },
    {
     "name": "stderr",
     "output_type": "stream",
     "text": [
      "c:\\Users\\Gajalakshmi G\\AppData\\Local\\Programs\\Python\\Python312\\Lib\\site-packages\\sklearn\\base.py:493: UserWarning: X does not have valid feature names, but StandardScaler was fitted with feature names\n",
      "  warnings.warn(\n"
     ]
    }
   ],
   "source": [
    "import pickle\n",
    "loaded_model=pickle.load(open(\"DecisionTree.sav\",\"rb\"))\n",
    "scx=pickle.load(open(\"scx.pkl\",'rb'))\n",
    "scy=pickle.load(open(\"scy.pkl\",'rb'))\n",
    "pre_int=scx.transform([[36,30,2,0,1]])\n",
    "result=loaded_model.predict(pre_int)\n",
    "print(result)\n",
    "pre_output=scy.inverse_transform([result])\n",
    "print(pre_output)"
   ]
  }
 ],
 "metadata": {
  "kernelspec": {
   "display_name": "Python 3",
   "language": "python",
   "name": "python3"
  },
  "language_info": {
   "codemirror_mode": {
    "name": "ipython",
    "version": 3
   },
   "file_extension": ".py",
   "mimetype": "text/x-python",
   "name": "python",
   "nbconvert_exporter": "python",
   "pygments_lexer": "ipython3",
   "version": "3.12.3"
  }
 },
 "nbformat": 4,
 "nbformat_minor": 2
}
